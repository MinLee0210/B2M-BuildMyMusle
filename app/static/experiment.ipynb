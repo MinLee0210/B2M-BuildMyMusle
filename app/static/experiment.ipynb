{
 "cells": [
  {
   "cell_type": "markdown",
   "metadata": {},
   "source": [
    "# Environment setup"
   ]
  },
  {
   "cell_type": "code",
   "execution_count": 2,
   "metadata": {},
   "outputs": [],
   "source": [
    "import json\n",
    "import os \n",
    "from dotenv import load_dotenv\n",
    "from app.controller.utils import to_markdown\n",
    "\n",
    "# from langchain_community.tools.tavily_search import TavilySearchResults\n",
    "# from langchain_community.utilities.tavily_search import TavilySearchAPIWrapper\n",
    "from langchain_core.output_parsers import StrOutputParser\n",
    "\n",
    "from langchain_google_genai import ChatGoogleGenerativeAI\n",
    "\n",
    "from langchain.prompts import PromptTemplate\n",
    "from langchain.chains import LLMChain"
   ]
  },
  {
   "cell_type": "code",
   "execution_count": 3,
   "metadata": {},
   "outputs": [],
   "source": [
    "load_dotenv()\n",
    "\n",
    "GEMINI_API_KEY = os.getenv(\"GEMINI_API_KEY\")"
   ]
  },
  {
   "cell_type": "markdown",
   "metadata": {},
   "source": [
    "# Experiment"
   ]
  },
  {
   "cell_type": "markdown",
   "metadata": {},
   "source": [
    "## Prompting design"
   ]
  },
  {
   "cell_type": "code",
   "execution_count": 4,
   "metadata": {},
   "outputs": [],
   "source": [
    "\n",
    "\n",
    "workout_plans = \"\"\"\n",
    "As a Personal Trainer, you are tasked to generate a comprehensive week workout plan that is specifically designed to help the client achieve a particular {fitness_goal}. The plan should include a variety of exercises, targeting different muscle groups, to ensure a balanced and effective workout routine. It should also consider the client's current fitness level, specific needs, and available fitness equipment. The plan must provide clear instructions for each exercise, including the number of sets, repetitions, and rest periods. Also, it should include a weekly schedule with recommended days for each workout and rest days. Lastly, provide tips on proper form and safety measures to avoid injuries and ensure the effectiveness of each exercise.\n",
    "\"\"\"\n",
    "# Taste Design\n",
    "instruction = \"\"\"\n",
    "You should: \n",
    "+ write your answers in bullet points. \n",
    "+ write your answers in plain text format. \n",
    "+ give a motivation for me. \n",
    "+ remind me to rest reasonably.\n",
    "+ be friendly as much as posible.\n",
    "\"\"\"\n",
    "\n",
    "\n",
    "my_prompt = workout_plans + instruction\n",
    "b2m_prompt = PromptTemplate.from_template(my_prompt)"
   ]
  },
  {
   "cell_type": "code",
   "execution_count": 5,
   "metadata": {},
   "outputs": [
    {
     "name": "stdout",
     "output_type": "stream",
     "text": [
      "\n",
      "As a Personal Trainer, you are tasked to generate a comprehensive week workout plan that is specifically designed to help the client achieve a particular {fitness_goal}. The plan should include a variety of exercises, targeting different muscle groups, to ensure a balanced and effective workout routine. It should also consider the client's current fitness level, specific needs, and available fitness equipment. The plan must provide clear instructions for each exercise, including the number of sets, repetitions, and rest periods. Also, it should include a weekly schedule with recommended days for each workout and rest days. Lastly, provide tips on proper form and safety measures to avoid injuries and ensure the effectiveness of each exercise.\n",
      "\n",
      "You should: \n",
      "+ write your answers in bullet points. \n",
      "+ write your answers in plain text format. \n",
      "+ give a motivation for me. \n",
      "+ remind me to rest reasonably.\n",
      "+ be friendly as much as posible.\n",
      "\n"
     ]
    }
   ],
   "source": [
    "print(b2m_prompt.template)"
   ]
  },
  {
   "cell_type": "code",
   "execution_count": null,
   "metadata": {},
   "outputs": [],
   "source": []
  },
  {
   "cell_type": "markdown",
   "metadata": {},
   "source": [
    "## Create Agent"
   ]
  },
  {
   "cell_type": "code",
   "execution_count": 6,
   "metadata": {},
   "outputs": [],
   "source": [
    "llm = ChatGoogleGenerativeAI(model=\"gemini-pro\", google_api_key=GEMINI_API_KEY, \n",
    "                             temperature=0.7, top_p=0.85, top_k=3)\n",
    "\n",
    "output_parser = StrOutputParser()\n",
    "\n",
    "b2m_chain = LLMChain(llm=llm, prompt=b2m_prompt, verbose=True)"
   ]
  },
  {
   "cell_type": "code",
   "execution_count": 7,
   "metadata": {},
   "outputs": [],
   "source": [
    "b2m_chain = b2m_prompt | \\\n",
    "            llm | \\\n",
    "            output_parser"
   ]
  },
  {
   "cell_type": "code",
   "execution_count": null,
   "metadata": {},
   "outputs": [],
   "source": []
  },
  {
   "cell_type": "markdown",
   "metadata": {},
   "source": [
    "## Inference"
   ]
  },
  {
   "cell_type": "code",
   "execution_count": 8,
   "metadata": {},
   "outputs": [],
   "source": [
    "response = b2m_chain.invoke({'fitness_goal': \"I want to have 6 packs. In addition, I also want huge back and shoulder.\"})"
   ]
  },
  {
   "cell_type": "code",
   "execution_count": 10,
   "metadata": {},
   "outputs": [
    {
     "data": {
      "text/markdown": [
       "> **Motivation:**\n",
       "> \n",
       "> \"Unlocking your dream physique is within your grasp! With dedication and consistency, this tailored workout plan will sculpt your core, back, and shoulders into the definition you desire.\"\n",
       "> \n",
       "> **Workout Plan:**\n",
       "> \n",
       "> **Day 1: Chest and Triceps**\n",
       "> \n",
       "> * Barbell Bench Press: 3 sets of 8-12 reps\n",
       "> * Incline Dumbbell Press: 3 sets of 10-15 reps\n",
       "> * Triceps Pushdowns: 3 sets of 12-15 reps\n",
       "> * Overhead Triceps Extensions: 3 sets of 10-15 reps\n",
       "> \n",
       "> **Day 2: Back and Biceps**\n",
       "> \n",
       "> * Pull-Ups: 3 sets of 8-12 reps\n",
       "> * Barbell Rows: 3 sets of 10-15 reps\n",
       "> * Hammer Curls: 3 sets of 12-15 reps\n",
       "> * Concentration Curls: 3 sets of 10-15 reps\n",
       "> \n",
       "> **Day 3: Rest**\n",
       "> \n",
       "> **Day 4: Legs**\n",
       "> \n",
       "> * Barbell Squats: 3 sets of 8-12 reps\n",
       "> * Leg Press: 3 sets of 10-15 reps\n",
       "> * Hamstring Curls: 3 sets of 12-15 reps\n",
       "> * Calf Raises: 3 sets of 15-20 reps\n",
       "> \n",
       "> **Day 5: Shoulders and Abs**\n",
       "> \n",
       "> * Overhead Press: 3 sets of 8-12 reps\n",
       "> * Lateral Raises: 3 sets of 10-15 reps\n",
       "> * Front Raises: 3 sets of 12-15 reps\n",
       "> * Plank: Hold for 30-60 seconds, 3 sets\n",
       "> \n",
       "> **Day 6: Rest**\n",
       "> \n",
       "> **Day 7: Cardio and Core**\n",
       "> \n",
       "> * Running or Cycling: 30 minutes at moderate intensity\n",
       "> * Russian Twists: 3 sets of 20-30 reps\n",
       "> * Leg Raises: 3 sets of 15-20 reps\n",
       "> \n",
       "> **Tips for Proper Form and Safety:**\n",
       "> \n",
       "> * Maintain a neutral spine and engage your core throughout all exercises.\n",
       "> * Choose weights that challenge you while allowing for proper form.\n",
       "> * Focus on the mind-muscle connection and control the movement.\n",
       "> * Rest adequately between sets to allow for muscle recovery.\n",
       "> * Listen to your body and take rest days when needed.\n",
       "> * Consult a medical professional if you experience any pain or discomfort.\n",
       "> \n",
       "> **Remember:**\n",
       "> \n",
       "> Rest is crucial for muscle recovery and growth. Aim for 7-9 hours of quality sleep each night. Stay hydrated by drinking plenty of water throughout the day. Fuel your body with a nutritious diet to support your training goals. Consistency is key, so stick to your workout schedule as much as possible. With hard work and dedication, you will achieve the physique you desire."
      ],
      "text/plain": [
       "<IPython.core.display.Markdown object>"
      ]
     },
     "execution_count": 10,
     "metadata": {},
     "output_type": "execute_result"
    }
   ],
   "source": [
    "to_markdown(response)"
   ]
  },
  {
   "cell_type": "code",
   "execution_count": null,
   "metadata": {},
   "outputs": [],
   "source": []
  },
  {
   "cell_type": "code",
   "execution_count": null,
   "metadata": {},
   "outputs": [],
   "source": []
  },
  {
   "cell_type": "code",
   "execution_count": null,
   "metadata": {},
   "outputs": [],
   "source": []
  },
  {
   "cell_type": "code",
   "execution_count": 1,
   "metadata": {},
   "outputs": [
    {
     "name": "stderr",
     "output_type": "stream",
     "text": [
      "Retrying langchain_google_genai.chat_models._chat_with_retry.<locals>._chat_with_retry in 2.0 seconds as it raised DeadlineExceeded: 504 Deadline Exceeded.\n"
     ]
    },
    {
     "data": {
      "text/plain": [
       "\"**Hey there, future bodybuilder!**\\n\\nI'm excited to help you craft a comprehensive workout plan that will unleash your inner beast and help you achieve your bodybuilding goals. Let's dive right in!\\n\\n**Workout Plan:**\\n\\n**Day 1: Chest and Triceps**\\n\\n* Barbell bench press: 3 sets of 8-12 reps\\n* Incline dumbbell press: 3 sets of 8-12 reps\\n* Dumbbell flyes: 3 sets of 10-15 reps\\n* Triceps pushdowns: 3 sets of 10-15 reps\\n* Skullcrushers: 3 sets of 10-15 reps\\n\\n**Day 2: Back and Biceps**\\n\\n* Barbell row: 3 sets of 8-12 reps\\n* Pull-ups: 3 sets of 8-12 reps\\n* Lat pulldowns: 3 sets of 10-15 reps\\n* Bicep curls: 3 sets of 10-15 reps\\n* Hammer curls: 3 sets of 10-15 reps\\n\\n**Day 3: Legs (Quadriceps)**\\n\\n* Barbell squats: 3 sets of 8-12 reps\\n* Leg press: 3 sets of 8-12 reps\\n* Leg extensions: 3 sets of 10-15 reps\\n* Calf raises: 3 sets of 15-20 reps\\n\\n**Day 4: Legs (Hamstrings and Glutes)**\\n\\n* Romanian deadlifts: 3 sets of 8-12 reps\\n* Hamstring curls: 3 sets of 10-15 reps\\n* Glute bridges: 3 sets of 10-15 reps\\n* Lunges: 3 sets of 10-15 reps per leg\\n\\n**Day 5: Shoulders and Abs**\\n\\n* Overhead press: 3 sets of 8-12 reps\\n* Lateral raises: 3 sets of 10-15 reps\\n* Reverse flyes: 3 sets of 10-15 reps\\n* Planks: 3 sets of 30-60 seconds hold\\n* Crunches: 3 sets of 15-20 reps\\n\\n**Day 6-7: Rest**\\n\\nRemember, rest is crucial for muscle recovery and growth. Take these days to recharge and come back stronger.\\n\\n**Tips for Proper Form and Safety:**\\n\\n* Always warm up before each workout and cool down afterward.\\n* Maintain proper posture throughout each exercise.\\n* Focus on contracting the target muscle group.\\n* Use a weight that challenges you while maintaining good form.\\n* Listen to your body and stop if you feel any pain.\\n* Consult with a healthcare professional or certified personal trainer if you have any concerns.\\n\\n**Motivation:**\\n\\nYou've got this! Remember, consistency and dedication are key. Every workout brings you closer to your goal. Embrace the challenge and witness the transformation.\\n\\n**Unclear or Biased Prompt:**\\n\\nIf you find the prompt unclear or biased, please let me know. I'm here to assist you in creating a tailored plan that meets your specific needs and preferences.\""
      ]
     },
     "execution_count": 1,
     "metadata": {},
     "output_type": "execute_result"
    }
   ],
   "source": [
    "from controller import fitness\n",
    "from schema import GetWorkoutPlan\n",
    "\n",
    "fitness_goal = GetWorkoutPlan(fitness_goal=\"I want to be a body-builder\")\n",
    "workout_plans = fitness.generate_workout_plan(fitness_goal=fitness_goal, instruction=None)\n",
    "workout_plans"
   ]
  }
 ],
 "metadata": {
  "kernelspec": {
   "display_name": "stoic_lab",
   "language": "python",
   "name": "python3"
  },
  "language_info": {
   "codemirror_mode": {
    "name": "ipython",
    "version": 3
   },
   "file_extension": ".py",
   "mimetype": "text/x-python",
   "name": "python",
   "nbconvert_exporter": "python",
   "pygments_lexer": "ipython3",
   "version": "3.11.7"
  }
 },
 "nbformat": 4,
 "nbformat_minor": 2
}
